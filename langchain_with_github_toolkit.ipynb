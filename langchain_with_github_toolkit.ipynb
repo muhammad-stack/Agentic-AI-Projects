{
 "cells": [
  {
   "cell_type": "code",
   "execution_count": 2,
   "metadata": {},
   "outputs": [],
   "source": [
    "%%capture no-stderr\n",
    "%pip install -qU  langchain-google-genai    langchain_community langchain langgraph"
   ]
  },
  {
   "cell_type": "code",
   "execution_count": 3,
   "metadata": {},
   "outputs": [],
   "source": [
    "import os, getpass\n",
    "\n",
    "def _set_env(var: str):\n",
    "    if not os.environ.get(var):\n",
    "        os.environ[var] = getpass.getpass(f\"{var}: \")"
   ]
  },
  {
   "cell_type": "code",
   "execution_count": 4,
   "metadata": {},
   "outputs": [],
   "source": [
    "_set_env(\"GOOGLE_API_KEY\")"
   ]
  },
  {
   "cell_type": "code",
   "execution_count": 5,
   "metadata": {},
   "outputs": [],
   "source": [
    "from langchain_google_genai import ChatGoogleGenerativeAI\n",
    "\n",
    "llm = ChatGoogleGenerativeAI(model='gemini-1.5-flash')"
   ]
  },
  {
   "cell_type": "code",
   "execution_count": 6,
   "metadata": {},
   "outputs": [],
   "source": [
    "# Sub process is used for running the shell commands in the python script\n",
    "from langchain.tools import  tool\n",
    "import subprocess\n",
    "\n",
    "@tool\n",
    "def github_commit_tool(commit_message : str = \"Some Commit\") -> str:\n",
    "    \"\"\" This function uses the subprocess module to commit the changes to the github repository pre-defined\"\"\"\n",
    "    subprocess.run([\"git\",\"add\", \".\"])\n",
    "    subprocess.run([\"git\",\"commit\", \"-m\", str(commit_message)])\n",
    "    subprocess.run([\"git\",\"push\",\"-u\",\"origin\",\"main\"]  , shell=True)\n",
    "\n",
    "    return \"Commited to Github\"\n"
   ]
  },
  {
   "cell_type": "code",
   "execution_count": null,
   "metadata": {},
   "outputs": [],
   "source": [
    "github_commit_tool(\"Initial Commit\")"
   ]
  },
  {
   "cell_type": "code",
   "execution_count": 7,
   "metadata": {},
   "outputs": [],
   "source": [
    "tools = [github_commit_tool]"
   ]
  },
  {
   "cell_type": "code",
   "execution_count": 8,
   "metadata": {},
   "outputs": [],
   "source": [
    "from langgraph.graph import add_messages\n",
    "from pydantic import BaseModel\n",
    "from typing import Annotated\n",
    "\n",
    "from langchain_core.messages import SystemMessage\n",
    "class State(BaseModel):\n",
    "    messages : Annotated[list , add_messages]\n",
    "\n",
    "# System message\n",
    "sys_msg = SystemMessage(content=\"You are a helpful assistant tasked with performing and helping users in making git and github related operations\")\n",
    "\n",
    "# LLM Node\n",
    "def model(message : State): \n",
    "    return {\"messages\": [llm.invoke( [sys_msg] + message.messages ) ]}"
   ]
  },
  {
   "cell_type": "code",
   "execution_count": 9,
   "metadata": {},
   "outputs": [],
   "source": [
    "\n",
    "from langgraph.graph import START, StateGraph\n",
    "from langgraph.prebuilt import tools_condition, ToolNode\n",
    "from IPython.display import Image, display\n",
    "from langgraph.graph.state import CompiledStateGraph\n"
   ]
  },
  {
   "cell_type": "code",
   "execution_count": null,
   "metadata": {},
   "outputs": [],
   "source": []
  }
 ],
 "metadata": {
  "kernelspec": {
   "display_name": "langchain",
   "language": "python",
   "name": "python3"
  },
  "language_info": {
   "codemirror_mode": {
    "name": "ipython",
    "version": 3
   },
   "file_extension": ".py",
   "mimetype": "text/x-python",
   "name": "python",
   "nbconvert_exporter": "python",
   "pygments_lexer": "ipython3",
   "version": "3.13.1"
  }
 },
 "nbformat": 4,
 "nbformat_minor": 2
}
